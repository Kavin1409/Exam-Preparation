{
 "cells": [
  {
   "cell_type": "markdown",
   "metadata": {
    "colab_type": "text",
    "id": "dyzrTiNvRvQz"
   },
   "source": [
    "# MPHY0021 - Hints for better software engineering practices\n"
   ]
  },
  {
   "cell_type": "markdown",
   "metadata": {
    "colab_type": "text",
    "id": "aCqsqyPxdOJ_"
   },
   "source": [
    "## Virtual Environments\n",
    "\n",
    "Virtual environments are a great way to isolate the  use or development of a particular software and its dependencies from the rest of your software. We provided a [basic intro on our course](http://github-pages.ucl.ac.uk/rsd-engineeringcourse/ch04packaging/010Installation.html#Python-virtual-environments), with either `venv` or `conda`. \n",
    "\n",
    "It's, however, a good practice to keep these environents on a different place than the code. Some of you packaged the environment with the submission, which produced errors on the automation of the marking.\n",
    "\n",
    "Personally, I have a fixed directory where I put all my environments, making it eassier for me to create helper functions that load these envs from anywhere I am in my computer as the path will be known, _e.g._, `$HOME/MyProject/bin/activate`. So in bash I could write this function into my `.bashrc` file:\n",
    "\n",
    "```shell\n",
    "function pyenv() {\n",
    "    source $HOME/$1/bin/activate\n",
    "}\n",
    "```\n",
    "This is somehow similar to what you get using `conda` environments, and now I could do: `pyenv MyProject` to activate that environment.\n",
    "\n"
   ]
  },
  {
   "cell_type": "markdown",
   "metadata": {
    "colab_type": "text",
    "id": "p9H5HR7nqEFm"
   },
   "source": [
    "## Artifacts\n",
    "\n",
    "When installing a library or running python files, you find there are files like `myprogram.pyc`, `__cache__`,  `.eeg`,  etc. These files should not be under version control, nor should they be shared around (or submitted). To keep these outside of your git repository you can add them to your `.gitignore` file (check [gitignore.io](https://www.gitignore.io) to generate common gitignore files for your projects based on your language, OS, IDE, etc.). To share a repository without these type of files you can run `git clean -fxd` to remove all the files that are not tracked on the repository."
   ]
  },
  {
   "cell_type": "markdown",
   "metadata": {
    "colab_type": "text",
    "id": "_DAublW_SBvg"
   },
   "source": [
    "## Using `argparse`\n",
    "\n",
    "`argparse` has many options that help to keep code cleaner, here are some examples about how to use them.  Check the [official tutorial](https://docs.python.org/3/howto/argparse.html), and other [guides](https://pymotw.com/3/argparse/).\n"
   ]
  },
  {
   "cell_type": "markdown",
   "metadata": {
    "colab_type": "text",
    "id": "8PuH8HEqsNjZ"
   },
   "source": [
    "0. Don't mix `sys.argv` and `argparse`, there's no need.\n",
    "\n",
    "For example:\n",
    "\n",
    "```python\n",
    "run_code(*parse_args(sys.argv[1:]))\n",
    "```\n",
    "\n",
    "If you call that program without passing any argument, then `parse_args` (if being from a parser) won't receive any value and only the default would be passed through. Additionally, that needs to output an iterable to `run_code`, but `argparse`'s `parse_args` returns a name space. If you create a new `parse_args`, then you are reinventing something that already exists in the core library of python."
   ]
  },
  {
   "cell_type": "markdown",
   "metadata": {
    "colab_type": "text",
    "id": "qDQGCJfUSBKj"
   },
   "source": [
    "1. Provide description to the command line and arguments"
   ]
  },
  {
   "cell_type": "markdown",
   "metadata": {
    "colab_type": "text",
    "id": "YIZTkNgeP3dn"
   },
   "source": [
    "```python\n",
    "import argparse\n",
    "\n",
    "# a simple implementation of `ls`\n",
    "parser = argparse.ArgumentParser(description=\"List directory contents\")\n",
    "parser.add_argument(\"FILE\", help=\"List the information about the FILE\")\n",
    "args = parser.parse_args()\n",
    "\n",
    "print(args.FILE)\n",
    "```\n"
   ]
  },
  {
   "cell_type": "markdown",
   "metadata": {
    "colab_type": "text",
    "id": "GVoEJz4LT-uC"
   },
   "source": [
    "```shell\n",
    "$ python ls.py -h   \n",
    "\n",
    "usage: ls.py [-h] FILE\n",
    "\n",
    "list directory contents\n",
    "\n",
    "positional arguments:\n",
    "  FILE        List the information about the FILE\n",
    "\n",
    "optional arguments:\n",
    "  -h, --help  show this help message and exit\n",
    "\n",
    "```"
   ]
  },
  {
   "cell_type": "markdown",
   "metadata": {
    "colab_type": "text",
    "id": "bUtQgFc5U8_O"
   },
   "source": [
    "2. Store a default value to make the argument optional."
   ]
  },
  {
   "cell_type": "markdown",
   "metadata": {
    "colab_type": "text",
    "id": "w6lK0ed_P9Nh"
   },
   "source": [
    "```python\n",
    "import argparse\n",
    "\n",
    "# a simple implementation of `ls`\n",
    "parser = argparse.ArgumentParser(description=\"List directory contents\")\n",
    "parser.add_argument(\"FILE\", help=\"List the information about the FILE\",\n",
    "                    default='.', nargs='?') # nargs is needed as it's a positional argument.\n",
    "args = parser.parse_args()\n",
    "\n",
    "print(args.FILE)\n",
    "```"
   ]
  },
  {
   "cell_type": "markdown",
   "metadata": {
    "colab_type": "text",
    "id": "AoJ7p9iSY3zr"
   },
   "source": [
    "```shell\n",
    "$ python ls.py                                                                                                                                                                                      . \n",
    "\n",
    "```"
   ]
  },
  {
   "cell_type": "markdown",
   "metadata": {
    "colab_type": "text",
    "id": "eAGQPsPeT6rl"
   },
   "source": [
    "3. Set the default data type for the argument. Instead of writting a piece of code to check that the input value is correct, let argparse to do it for you"
   ]
  },
  {
   "cell_type": "markdown",
   "metadata": {
    "colab_type": "text",
    "id": "xEY0JRQcQCbq"
   },
   "source": [
    "```python\n",
    "import argparse\n",
    "\n",
    "# a simple implementation of `ls`\n",
    "parser = argparse.ArgumentParser(description=\"List directory contents\")\n",
    "parser.add_argument(\"FILE\", help=\"List the information about the FILE\",\n",
    "                    default='.', nargs='?') # nargs is needed as it's a positional argument.\n",
    "parser.add_argument('-p', '--padding', help=\"Padds the output with blank lines\",\n",
    "                    default=0, type=int)\n",
    "args = parser.parse_args()\n",
    "\n",
    "print(\"\\n\" * args.padding,\n",
    "      args.FILE,\n",
    "      \"\\n\"*args.padding)\n",
    "```"
   ]
  },
  {
   "cell_type": "markdown",
   "metadata": {
    "colab_type": "text",
    "id": "mssfZnv8YsGo"
   },
   "source": [
    "```shell\n",
    "$ python ls.py -p 4.3\n",
    "usage: ls.py [-h] [-p PADDING] [FILE]\n",
    "ls.py: error: argument -p/--padding: invalid int value: '4.3'\n",
    "\n",
    "```"
   ]
  },
  {
   "cell_type": "markdown",
   "metadata": {
    "colab_type": "text",
    "id": "xDI0wyjAZXg3"
   },
   "source": [
    "4. Use flags that set booleans instead of a parameter with `True/False`, `Yes/No`. Very useful, for example, when you want to set a program to create a plot or not.\n",
    "\n",
    "So, instead of writing:\n",
    "\n",
    "```python\n",
    "parser.add_argument('-t', '--time', help=\"Show the modification time of FILE\",\n",
    "                    type=str, default=\"yes\")\n",
    "\n",
    "```\n",
    "\n",
    "and then later convert it into a boolean... This lets `argparse` do it for you:"
   ]
  },
  {
   "cell_type": "markdown",
   "metadata": {
    "colab_type": "text",
    "id": "BRiCgf9fQJXF"
   },
   "source": [
    "```python\n",
    "import argparse\n",
    "import datetime\n",
    "import os\n",
    "\n",
    "# a simple implementation of `ls`\n",
    "parser = argparse.ArgumentParser(description=\"list directory contents\")\n",
    "parser.add_argument(\"FILE\", help=\"List the information about the FILEs\",\n",
    "                    default='.', nargs='?')\n",
    "parser.add_argument('-p', '--padding', help=\"Padds the output with blank lines\",\n",
    "                    default=0, type=int)\n",
    "parser.add_argument('-t', '--time', help=\"Show the modification time of FILE\",\n",
    "                   action='store_true')\n",
    "args = parser.parse_args()\n",
    "\n",
    "time = ''\n",
    "if args.time:\n",
    "    time = datetime.datetime.fromtimestamp(os.path.getmtime(args.FILE))\n",
    "\n",
    "print(\"\\n\" * args.padding,\n",
    "      time, args.FILE,\n",
    "      \"\\n\"*args.padding)\n",
    "```"
   ]
  },
  {
   "cell_type": "markdown",
   "metadata": {
    "colab_type": "text",
    "id": "mj4AdmkEcAUd"
   },
   "source": [
    "```shell\n",
    "$ python ls.py\n",
    "  . \n",
    "```\n",
    "\n",
    "Or with the `-t` flag:\n",
    "\n",
    "```shell\n",
    "$ python /tmp/ls.py -t\n",
    " 2019-03-30 11:48:40.999584 . \n",
    "\n",
    "```"
   ]
  },
  {
   "cell_type": "markdown",
   "metadata": {
    "colab_type": "text",
    "id": "N9eGQgwbc8kB"
   },
   "source": [
    "## Booleans\n",
    "\n"
   ]
  },
  {
   "cell_type": "markdown",
   "metadata": {
    "colab_type": "text",
    "id": "AEiR5yfplCvF"
   },
   "source": [
    "### Using `True/False` instead of values\n",
    "\n",
    "There are few languages that don't have the boolean data type, and `1` and `0`, or `Yes` and `No` have been used instead.  Python does have booleans, so this type of functions:\n",
    "\n",
    "```python\n",
    "def mycode(a, b, plot=0):\n",
    "    if plot == 1:\n",
    "      run_plot(a,b)\n",
    "```\n",
    "\n",
    "is not good practice. Something like this is preferred:\n",
    "\n",
    "```python\n",
    "def mycode(a, b, plot=False):\n",
    "    if plot:\n",
    "      run_plot(a,b)\n",
    "```\n",
    "\n",
    "Similarly with arguments like `left` or `right`. So instead to save a variable like:\n",
    "\n",
    "```python\n",
    "direction = 'left'\n",
    "\n",
    "if direction == 'left':\n",
    "    go_left()\n",
    "else:\n",
    "    go_right()\n",
    "```\n",
    "\n",
    "writing the code as:\n",
    "\n",
    "```python\n",
    "is_left = True\n",
    "\n",
    "if is_left:\n",
    "    go_left()\n",
    "else:\n",
    "    go_right()\n",
    "```\n",
    "\n",
    "makes the code more readable."
   ]
  },
  {
   "cell_type": "markdown",
   "metadata": {
    "colab_type": "text",
    "id": "Uxyl04KFhuSe"
   },
   "source": [
    "### Double negative\n",
    "\n",
    "Some people submitted functions like\n",
    "\n",
    "```python\n",
    "def mycode(a, b, plot_off=True):\n",
    "    if plot_off is False:\n",
    "        run_plot(a,b)\n",
    "```\n",
    "\n",
    "This makes the code quite hard to read, whereas the following:\n",
    "\n",
    "```python\n",
    "def mycode(a, b, plot=False):\n",
    "    if plot:\n",
    "        run_plot(a,b)\n",
    "```\n",
    "\n",
    "is cleaner and easier to read."
   ]
  },
  {
   "cell_type": "markdown",
   "metadata": {
    "colab_type": "text",
    "id": "FDywHU7uh-nZ"
   },
   "source": [
    "### Unneeded `pass` or `continue`\n",
    "\n",
    "In some code samples this is what we've seen:\n",
    "\n",
    "```python\n",
    "if plot:\n",
    "    run_plot()\n",
    "else:\n",
    "    pass\n",
    "```\n",
    "\n",
    "The `else` block is unneeded.\n",
    "\n",
    "Similarly, on some loops we've seen:\n",
    "\n",
    "```python\n",
    "for i in range(10):\n",
    "    run_operation_with(i)\n",
    "    if plot:\n",
    "        run_plot()\n",
    "    else:\n",
    "        continue\n",
    "```\n",
    "\n",
    "That `continue` at the end of the loop is not needed. It makes sense, however if you want to skip some operation coming after the `if/else` block."
   ]
  },
  {
   "cell_type": "markdown",
   "metadata": {
    "colab_type": "text",
    "id": "tGM-D6vr2qlq"
   },
   "source": [
    "## Comments and documentation"
   ]
  },
  {
   "cell_type": "markdown",
   "metadata": {
    "colab_type": "text",
    "id": "plLsiIdG2xFF"
   },
   "source": [
    "### Use docstring instead of comments for classes and functions\n",
    "\n",
    "We've seen a few variations of adding comments to a function:\n",
    "\n",
    "```python\n",
    "# This function adds numbers\n",
    "def add(a, b):\n",
    "     return a + b\n",
    "```\n",
    "\n",
    "or with the comment inside the function (sometimes not respecting indentation):\n",
    "\n",
    "```python\n",
    "def add(a, b):\n",
    "# This function adds numbers\n",
    "     return a + b\n",
    "```\n",
    "\n",
    "In such cases the use of [docstrings](http://github-pages.ucl.ac.uk/rsd-engineeringcourse/ch04packaging/04documentation.html) is preferred. \n",
    "\n",
    "\n",
    "\n",
    "```python\n",
    "def add(a, b):\n",
    "     '''\n",
    "     Add numbers\n",
    "     '''\n",
    "     return a + b\n",
    "```"
   ]
  },
  {
   "cell_type": "markdown",
   "metadata": {
    "colab_type": "text",
    "id": "D1FVTvzY3ucr"
   },
   "source": [
    "### Docstrings formats\n",
    "\n",
    "There are a couple of standards for docstrings, that help the integration of your files with documentation tools like sphinx. [NumpyDoc](https://numpydoc.readthedocs.io/en/latest/) is one of the most broadly used on the scientific libraries. Other languages and communities put effort into defining the structure of the documentation, and developing tools that make it easier to display and search. Learn about them! "
   ]
  },
  {
   "cell_type": "markdown",
   "metadata": {
    "colab_type": "text",
    "id": "JpVSEFXX4vCS"
   },
   "source": [
    "### Don't use multiline strings as to comment out lines\n",
    "\n",
    "We've seen on many submissions the use of multiline-strings to comment-out code, for example:\n",
    "\n",
    "```python\n",
    "'''\n",
    "length = 5\n",
    "width = 2\n",
    "height = 24\n",
    "volume = length * width * height\n",
    "'''\n",
    "```\n",
    "\n",
    "instead of:\n",
    "\n",
    "```python\n",
    "# length = 5\n",
    "# width = 2\n",
    "# height = 24\n",
    "# volume = length * width * height\n",
    "```\n",
    "\n",
    "Note that the multi-line string is still \"read\" by python, where the commented out (using `#`) is ignored. Though the first may seem simpler to do when writing code, your text editor most certainly have some functions to comment out text that's selected.  For example, on Jupyter you can select the text and use <kbd>Ctrl</kbd> + <kbd>/</kbd>. Other shortcuts are available for [pycharm](https://www.jetbrains.com/help/pycharm/commenting-and-uncommenting-blocks-of-code.html), [vs code](https://code.visualstudio.com/shortcuts/keyboard-shortcuts-windows.pdf), ..."
   ]
  },
  {
   "cell_type": "markdown",
   "metadata": {
    "colab_type": "text",
    "id": "O1cPAvSD7vuy"
   },
   "source": [
    "## Formatting\n"
   ]
  },
  {
   "cell_type": "markdown",
   "metadata": {
    "colab_type": "text",
    "id": "Z1NQIbHA7yaH"
   },
   "source": [
    "### f-strings\n",
    "\n",
    "f-strings are more readable than c-style:\n",
    "\n",
    "```python\n",
    "age = 25\n",
    "name = 'Eric'\n",
    "\n",
    "print(f'{name} is {age} years old')\n",
    "```\n",
    "vs\n",
    "\n",
    "```python\n",
    "print(\"%s is %d years old\" % (name, age))\n",
    "```\n",
    "\n",
    "Read more about it on this [fantastic guide](https://realpython.com/python-f-strings/)."
   ]
  },
  {
   "cell_type": "markdown",
   "metadata": {
    "colab_type": "text",
    "id": "h7WPXf9U9C0L"
   },
   "source": [
    "### spacing after statements\n",
    "\n",
    "In python some things are statements (_e.g._, `if`, `else`, `for`, ...) whereas other things are functions (_e.g._, `print`,  `range`, ...). It's not good practice to have the parentheses without or with a space respectively. So, the bad example would be:\n",
    "\n",
    "```python\n",
    "for( i in range (23)):\n",
    "    if( i % 2 and i > 10 ):\n",
    "        print (i)\n",
    "```\n",
    "\n",
    "and the most readable:\n",
    "\n",
    "```python\n",
    "for i in range(23):\n",
    "    if ( i % 2 and i > 10 ):\n",
    "        print(i)\n",
    "```\n",
    "\n",
    "Although in this example the parentheses on the `if` block are not needed, they are left in to show the preferred use on cases where they are needed (even if it's to aid readibility)."
   ]
  },
  {
   "cell_type": "markdown",
   "metadata": {
    "colab_type": "text",
    "id": "srjDbuMi-llu"
   },
   "source": [
    "## Iterations"
   ]
  },
  {
   "cell_type": "markdown",
   "metadata": {
    "colab_type": "text",
    "id": "1HtvtFKq-odd"
   },
   "source": [
    "### `while` vs `for` and counters\n",
    "\n",
    "Some times you need to run something a number of times; both `while` and `for` are used for that. However, sometimes the counter of the iteration is not important so you could do:\n",
    "\n",
    "```python\n",
    "i = 0\n",
    "while i < 10:\n",
    "    run_code()\n",
    "    i += 1\n",
    "```\n",
    "\n",
    "or with `for`:\n",
    "\n",
    "```python\n",
    "for i in range(10):\n",
    "    run_code()\n",
    "```\n",
    "\n",
    "Since we are not really using the variable `i` (only on the while to increase the counter), a general practice in python is to use `_` for unused variables, having therefore:\n",
    "\n",
    "```python\n",
    "for _ in range(10):\n",
    "    run_code()\n",
    "```\n"
   ]
  },
  {
   "cell_type": "markdown",
   "metadata": {
    "colab_type": "text",
    "id": "AAIvuhVHAQ_i"
   },
   "source": [
    "### Iterate over two lists\n",
    "\n",
    "Imagine you have two lists and you want to know the differences of  one over the other. You could think of doing it like:\n",
    "\n",
    "```python\n",
    "for i in range(len(list1)):\n",
    "    difference.append(list1[i] - list2[i])\n",
    "```\n",
    "\n",
    "However, it's cleaner using `zip`:\n",
    "\n",
    "```python\n",
    "for elem1, elem2 in zip(list1, list2):\n",
    "    difference.append(elem1 - elem2)\n",
    "```\n",
    "\n",
    "and even cleaner using numpy arrays:\n",
    "```python\n",
    "difference = array1 - array2\n",
    "```\n"
   ]
  },
  {
   "cell_type": "markdown",
   "metadata": {
    "colab_type": "text",
    "id": "-mgj06UT_zly"
   },
   "source": [
    "### knowing how to use `range` and `list`\n",
    "\n",
    "On a couple of occasions we've seen:\n",
    "\n",
    "```python\n",
    "x_list = list(range(number))\n",
    "x_list = [x + 1 for x in x_list]\n",
    "```\n",
    "\n",
    "This could have been simplified with:\n",
    "\n",
    "```python\n",
    "x_list = list(range(1, number + 1))\n",
    "```\n",
    "\n",
    "And depending of where you are planning to use such list, you may not need to convert the range into a list."
   ]
  },
  {
   "cell_type": "markdown",
   "metadata": {
    "colab_type": "text",
    "id": "nuUYXT9D0QIg"
   },
   "source": [
    "## Functions"
   ]
  },
  {
   "cell_type": "markdown",
   "metadata": {
    "colab_type": "text",
    "id": "2VTRFHEB0S0l"
   },
   "source": [
    "### Output of functions\n",
    "\n",
    "It's not a good practice that functions return a piece of text, instead of the result. For example, this is preferred\n",
    "\n",
    "```python\n",
    "def sum(a, b):\n",
    "    return a + b\n",
    "```\n",
    "\n",
    "instead of: \n",
    "\n",
    "```python\n",
    "def sum(a, b):\n",
    "    result = a + b\n",
    "    return f'Sum of {a} + {b} = {result}'\n",
    "```\n",
    "\n",
    "The first option gives you more flexibility, as you can then use the result of the function in whatever way you want, printing or otherwise. It also makes your code more modular: the function is responsible for exactly one thing (in this case, the computation, not any associated output)."
   ]
  },
  {
   "cell_type": "markdown",
   "metadata": {
    "colab_type": "text",
    "id": "UrRb_FPnPNKu"
   },
   "source": [
    "### Printing inside functions\n",
    "\n",
    "Printing inside a function as the below sample shows, is not good practice:\n",
    "\n",
    "```python\n",
    "def sum(a, b):\n",
    "    result = a + b\n",
    "    print(f'Summing {a} and {b}')\n",
    "    print(f'it produces {result}')\n",
    "    return result\n",
    "```\n",
    "\n",
    "if you want to print when a function is running, then the use of a [logger](https://docs.python.org/3.7/library/logging.html) is preferred.\n"
   ]
  },
  {
   "cell_type": "markdown",
   "metadata": {
    "colab_type": "text",
    "id": "7LnHILR7ymh4"
   },
   "source": [
    "## Objects"
   ]
  },
  {
   "cell_type": "markdown",
   "metadata": {
    "colab_type": "text",
    "id": "7bD6FLAuyp9o"
   },
   "source": [
    "### Using properties within the methods\n",
    "\n",
    "On the first assignment you were asked to convert some functions into methods of an object. Some of you did the following (albeit for a different example),\n",
    "\n",
    "From:\n",
    "\n",
    "```python\n",
    "def area_rectangle(width, height):\n",
    "    return width * height\n",
    "\n",
    "def perimeter(width, height):\n",
    "    return 2 * (width + height)\n",
    "\n",
    "```\n",
    "\n",
    "To:\n",
    "\n",
    "\n"
   ]
  },
  {
   "cell_type": "code",
   "execution_count": 0,
   "metadata": {
    "colab": {},
    "colab_type": "code",
    "id": "-k3-WdYAzWVw"
   },
   "outputs": [],
   "source": [
    "class Rectangle:\n",
    "    def __init__(self, widht, height):\n",
    "        self.height = height\n",
    "        self.width = widht\n",
    "\n",
    "    def perimeter(self, width, height):\n",
    "        return 2 * (width + height)\n",
    "\n",
    "    def area(self, width, height):\n",
    "        return width * height\n"
   ]
  },
  {
   "cell_type": "markdown",
   "metadata": {
    "colab_type": "text",
    "id": "G1VxfbBizcAg"
   },
   "source": [
    "Note that in this case, everytime we want to calculate the perimeter or the area of the rectangle, we need to provide again the properties of such rectangle:\n"
   ]
  },
  {
   "cell_type": "code",
   "execution_count": 0,
   "metadata": {
    "colab": {
     "base_uri": "https://localhost:8080/",
     "height": 34
    },
    "colab_type": "code",
    "id": "RApnB1Nkza0p",
    "outputId": "58574157-102c-4a3e-8cf9-f77373df43df"
   },
   "outputs": [
    {
     "name": "stdout",
     "output_type": "stream",
     "text": [
      "10\n"
     ]
    }
   ],
   "source": [
    "myRectangle = Rectangle(3, 2)\n",
    "print(myRectangle.perimeter(3, 2))"
   ]
  },
  {
   "cell_type": "markdown",
   "metadata": {
    "colab_type": "text",
    "id": "rK-OaNdDzrZX"
   },
   "source": [
    "Instead, we can define the rectangle as:"
   ]
  },
  {
   "cell_type": "code",
   "execution_count": null,
   "metadata": {
    "colab": {},
    "colab_type": "code",
    "id": "0AlnGkwPzv55"
   },
   "outputs": [],
   "source": [
    "class Rectangle:\n",
    "    def __init__(self, widht, height):\n",
    "        self.height = height\n",
    "        self.width = widht\n",
    "\n",
    "    def perimeter(self):\n",
    "        return 2 * (self.width + self.height)\n",
    "\n",
    "    def area(self):\n",
    "        return self.width * self.height"
   ]
  },
  {
   "cell_type": "markdown",
   "metadata": {
    "colab_type": "text",
    "id": "pLQZWkJFz2C5"
   },
   "source": [
    "Making the calculation of the perimeter as:"
   ]
  },
  {
   "cell_type": "code",
   "execution_count": 0,
   "metadata": {
    "colab": {
     "base_uri": "https://localhost:8080/",
     "height": 34
    },
    "colab_type": "code",
    "id": "GDjsdFg_z5_x",
    "outputId": "bf1736f0-9622-4343-bc3c-bbbcc20127c1"
   },
   "outputs": [
    {
     "name": "stdout",
     "output_type": "stream",
     "text": [
      "10\n"
     ]
    }
   ],
   "source": [
    "myRectangle = Rectangle(3, 2)\n",
    "print(myRectangle.perimeter())"
   ]
  },
  {
   "cell_type": "markdown",
   "metadata": {
    "colab_type": "text",
    "id": "LswPgWch0qPg"
   },
   "source": [
    "This second option is preferred as it's using the properties of the created object. It's therefore truly called as a method of the object, and not as an independent function within a class."
   ]
  },
  {
   "cell_type": "markdown",
   "metadata": {
    "colab_type": "text",
    "id": "UDzLUxpW03aF"
   },
   "source": [
    "### Updating the properties\n",
    "\n",
    "Imagine that we need a method to increase the area of the rectangle. You could do something like:\n"
   ]
  },
  {
   "cell_type": "code",
   "execution_count": 0,
   "metadata": {
    "colab": {},
    "colab_type": "code",
    "id": "Qv7e-A0B9gji"
   },
   "outputs": [],
   "source": [
    "class Rectangle:\n",
    "    def __init__(self, widht, height):\n",
    "        self.height = height\n",
    "        self.width = widht\n",
    "\n",
    "    def perimeter(self):\n",
    "        return 2 * (self.width + self.height)\n",
    "\n",
    "    def area(self):\n",
    "        return self.width * self.height\n",
    "     \n",
    "    def increase_area(self, value):\n",
    "        return self.width * self.height * value"
   ]
  },
  {
   "cell_type": "markdown",
   "metadata": {
    "colab_type": "text",
    "id": "UIs8j1739sga"
   },
   "source": [
    "So if we want to calculate the area we would do:"
   ]
  },
  {
   "cell_type": "code",
   "execution_count": 0,
   "metadata": {
    "colab": {
     "base_uri": "https://localhost:8080/",
     "height": 52
    },
    "colab_type": "code",
    "id": "VZP6ECiO9sJw",
    "outputId": "afdc1ee8-b59e-4966-a20b-9bbdd2993fa2"
   },
   "outputs": [
    {
     "name": "stdout",
     "output_type": "stream",
     "text": [
      "30\n",
      "6\n"
     ]
    }
   ],
   "source": [
    "myRectangle = Rectangle(3, 2)\n",
    "print(myRectangle.increase_area(5))\n",
    "print(myRectangle.area())"
   ]
  },
  {
   "cell_type": "markdown",
   "metadata": {
    "colab_type": "text",
    "id": "ObTy8KON-GnI"
   },
   "source": [
    "but as you can see, the method is not really doing what its name suggests, _i.e._, increasing the area of `myRectangle`, but only returning a new value.\n",
    "\n",
    "A better implementation would be:"
   ]
  },
  {
   "cell_type": "code",
   "execution_count": 0,
   "metadata": {
    "colab": {
     "base_uri": "https://localhost:8080/",
     "height": 34
    },
    "colab_type": "code",
    "id": "mXcNkGzy_nGN",
    "outputId": "aa982192-e5a3-4079-ccbb-c43312984552"
   },
   "outputs": [
    {
     "name": "stdout",
     "output_type": "stream",
     "text": [
      "30\n"
     ]
    }
   ],
   "source": [
    "class Rectangle:\n",
    "    def __init__(self, widht, height):\n",
    "        self.height = height\n",
    "        self.width = widht\n",
    "\n",
    "    def perimeter(self):\n",
    "        return 2 * (self.width + self.height)\n",
    "\n",
    "    def area(self):\n",
    "        return self.width * self.height\n",
    "     \n",
    "    def increase_area(self, value):\n",
    "        self.width *= value\n",
    "\n",
    "myRectangle = Rectangle(3, 2)\n",
    "myRectangle.increase_area(5)\n",
    "print(myRectangle.area())"
   ]
  },
  {
   "cell_type": "markdown",
   "metadata": {
    "colab_type": "text",
    "id": "jG3J8cbU_np0"
   },
   "source": [
    "If we now have to run a set of increases, for example as given in a list, they could run as:"
   ]
  },
  {
   "cell_type": "code",
   "execution_count": 0,
   "metadata": {
    "colab": {
     "base_uri": "https://localhost:8080/",
     "height": 34
    },
    "colab_type": "code",
    "id": "QenxaXkI_x1x",
    "outputId": "bff2a6e2-cb00-4ca9-ce93-b8ebea48431c"
   },
   "outputs": [
    {
     "name": "stdout",
     "output_type": "stream",
     "text": [
      "1080\n"
     ]
    }
   ],
   "source": [
    "factors = [2, 3, 5, 6]\n",
    "myRectangle = Rectangle(3, 2)\n",
    "for factor in factors:\n",
    "    myRectangle.increase_area(factor)\n",
    "print(myRectangle.area())"
   ]
  },
  {
   "cell_type": "markdown",
   "metadata": {
    "colab_type": "text",
    "id": "wXL_VukiAa3x"
   },
   "source": [
    "### Method that allows easy exchange of operation\n",
    "\n",
    "Sometimes we want our objects to offer the ability to be modified, but let the user specify exactly how that change should happen. Note that there are many ways of doing this; the example below is one of the simplest.\n",
    "\n",
    "Imagine that our rectangle is defined as follows:"
   ]
  },
  {
   "cell_type": "code",
   "execution_count": 0,
   "metadata": {
    "colab": {},
    "colab_type": "code",
    "id": "EtI146gvA3-1"
   },
   "outputs": [],
   "source": [
    "class Rectangle:\n",
    "    def __init__(self, widht,height):\n",
    "        self.height = height\n",
    "        self.width = widht\n",
    "        self.x = None\n",
    "        self.y = None\n",
    "\n",
    "    def perimeter(self):\n",
    "        return 2 * (self.width + self.height)\n",
    "\n",
    "    def area(self):\n",
    "        return self.width * self.height\n",
    "\n",
    "    def set_ll_coordinates(self, x0=0, y0=0):\n",
    "        '''\n",
    "        Places the lower left corner of the rectangle on the coordinates given.\n",
    "        '''\n",
    "        self.x = [x0, self.width + x0]\n",
    "        self.y = [y0, self.height + y0]\n",
    "\n",
    "    def expand(self, expand_x=0, expand_y=0):\n",
    "        self.x[1] += expand_x\n",
    "        self.y[1] += expand_y\n",
    "        self.width = self.x[1] - self.x[0]\n",
    "        self.height = self.y[1] - self.y[0]\n"
   ]
  },
  {
   "cell_type": "markdown",
   "metadata": {
    "colab_type": "text",
    "id": "nRYNLOyIBdxJ"
   },
   "source": [
    "This new rectangle can be placed into a 2D grid as we can set the properties:"
   ]
  },
  {
   "cell_type": "code",
   "execution_count": 0,
   "metadata": {
    "colab": {
     "base_uri": "https://localhost:8080/",
     "height": 86
    },
    "colab_type": "code",
    "id": "ZbyeK-LFBsf3",
    "outputId": "1744ab96-3245-400b-a7bb-8b38baff20ab"
   },
   "outputs": [
    {
     "name": "stdout",
     "output_type": "stream",
     "text": [
      "The rectangle has x:([0, 3]) and y:([0, 2])\n",
      "The new area is 6\n",
      "The rectangle has x:([0, 6]) and y:([0, 4])\n",
      "The new area is 24\n"
     ]
    }
   ],
   "source": [
    "myRectangle = Rectangle(3, 2)\n",
    "myRectangle.set_ll_coordinates()\n",
    "print(f'The rectangle has x:({myRectangle.x}) and y:({myRectangle.y})')\n",
    "print(f'The new area is {myRectangle.area()}')\n",
    "myRectangle.expand(3, 2)\n",
    "print(f'The rectangle has x:({myRectangle.x}) and y:({myRectangle.y})')\n",
    "print(f'The new area is {myRectangle.area()}')\n"
   ]
  },
  {
   "cell_type": "markdown",
   "metadata": {
    "colab_type": "text",
    "id": "izTxqu4MDshi"
   },
   "source": [
    "If we want to have a method to expand the rectangle maintaing the aspect ratio, there are (at least) two possibilities for that:\n",
    "\n",
    "1. **Uniform** expansion\n",
    "\n",
    "![uniform](https://drive.google.com/uc?export=view&id=1RyTLYx-J3RUQEGsR47pgqyQtXGaDGVxQ)\n",
    "\n",
    "2. **Centered** expansion \n",
    "\n",
    "![centered](https://drive.google.com/uc?export=view&id=1Z5ITwp9BR8FXj4C2FgMtLkN3QuKUcQQT)\n",
    "\n",
    "We can write the `Rectangle` class so that the user can choose which of the two expansions modes should be used (or, indeed, any other approach that they can provide). The user controls this by passing an appropriate function as an argument to the method."
   ]
  },
  {
   "cell_type": "code",
   "execution_count": 0,
   "metadata": {
    "colab": {
     "base_uri": "https://localhost:8080/",
     "height": 121
    },
    "colab_type": "code",
    "id": "o4ZjG-qgK2sA",
    "outputId": "78561e62-f051-4615-cfef-e20dba798ecf"
   },
   "outputs": [
    {
     "name": "stdout",
     "output_type": "stream",
     "text": [
      "The rectangle has x:([-2, 1]) and y:([-4, -2])\n",
      "The new area is 6\n",
      "The rectangle has x:((-2, 4)) and y:((-4, 1))\n",
      "The new area is 30\n",
      "The rectangle has x:((-0.5, 2.5)) and y:((-2.5, -0.5))\n",
      "The new area is 6.0\n"
     ]
    }
   ],
   "source": [
    "class Rectangle:\n",
    "    def __init__(self, widht, height):\n",
    "        self.height = height\n",
    "        self.width = widht\n",
    "        self.x = None\n",
    "        self.y = None\n",
    "\n",
    "    def perimeter(self):\n",
    "        return 2 * (self.width + self.height)\n",
    "\n",
    "    def area(self):\n",
    "        return self.width * self.height\n",
    "\n",
    "    def set_ll_coordinates(self, x0=0, y0=0):\n",
    "        '''\n",
    "        Places the lower left corner of the rectangle on the coordinates given.\n",
    "        '''\n",
    "        self.x = [x0, self.width + x0]\n",
    "        self.y = [y0, self.height + y0]\n",
    "    \n",
    "    def _update_dimensions(self):\n",
    "        self.width = self.x[1] - self.x[0]\n",
    "        self.height = self.y[1] - self.y[0]\n",
    "      \n",
    "\n",
    "    def expand(self, expand_x=0, expand_y=0):\n",
    "        self.x[1] += expand_x\n",
    "        self.y[1] += expand_y\n",
    "        self._update_dimensions()        \n",
    "\n",
    "    def expand_keep_aspect(self, value, mode):\n",
    "        '''\n",
    "        New rectangle is expanded by a value using an input function\n",
    "        \n",
    "        parameters\n",
    "        ----------\n",
    "        value: int, float\n",
    "           How much to expand - Increase on area depends on mode used\n",
    "\n",
    "        mode: function\n",
    "           How rectangle is expanded. Function needs to return pair of x and y\n",
    "           coordinates from a pair of x,y and a value of expansion.\n",
    "        '''\n",
    "\n",
    "        self.x, self.y = mode(self.x, self.y, value)\n",
    "        self._update_dimensions()        \n",
    "        \n",
    "\n",
    "def uniform_expand(x, y, value=0):\n",
    "    return (x[0], x[1] + value), (y[0], y[1] + value)\n",
    "\n",
    "\n",
    "def centered_expand(x, y, value=0):\n",
    "    half = value / 2\n",
    "    return (x[0] - half, x[1] + half), (y[0] - half, y[1] + half)\n",
    "\n",
    "  \n",
    "myRectangle = Rectangle(3, 2)\n",
    "myRectangle.set_ll_coordinates(-2, -4)\n",
    "print(f'The rectangle has x:({myRectangle.x}) and y:({myRectangle.y})')\n",
    "print(f'The new area is {myRectangle.area()}')\n",
    "myRectangle.expand_keep_aspect(3, uniform_expand)\n",
    "print(f'The rectangle has x:({myRectangle.x}) and y:({myRectangle.y})')\n",
    "print(f'The new area is {myRectangle.area()}')\n",
    "myRectangle.expand_keep_aspect(-3, centered_expand)\n",
    "print(f'The rectangle has x:({myRectangle.x}) and y:({myRectangle.y})')\n",
    "print(f'The new area is {myRectangle.area()}')\n",
    "\n"
   ]
  },
  {
   "cell_type": "markdown",
   "metadata": {
    "colab_type": "text",
    "id": "1Vg5Oh80C4x2"
   },
   "source": [
    "## Working with files"
   ]
  },
  {
   "cell_type": "markdown",
   "metadata": {
    "colab_type": "text",
    "id": "z2HFBBazDIi9"
   },
   "source": [
    "### Variable from a yaml file\n",
    "\n",
    "A few people used the `exec` function to convert into variables what was read from a yaml file.\n",
    "\n",
    "for example:\n",
    "\n",
    "```python\n",
    "config = yaml.load(open(\"config.yaml\"))\n",
    "for key, value in config.items():\n",
    "    exec(key + \"= value\")\n",
    "```\n",
    "\n",
    "The use of `exec` is not a good practice, mostly because you don't have a proper way to know what variables you are creating. If this has been used in order to pass these variables later into a function, then others ways are preferred, for example:\n",
    "\n",
    "```python\n",
    "\n",
    "def volume(height=1, width=1, depth=1):\n",
    "    return height * width * depth\n",
    "  \n",
    "config = yaml.load(open(\"config.yaml\"))\n",
    "\n",
    "print(volume(**config))\n",
    "```\n",
    "Furthermore, keep in mind that `exec` will run whatever code you give it: in real-world applications, It's dangerous to execute arbitrary (including potentially malicious) code that a user inputs!"
   ]
  },
  {
   "cell_type": "markdown",
   "metadata": {
    "colab_type": "text",
    "id": "8Gn5tOOcE6Ez"
   },
   "source": [
    "### Where to read the data from?\n",
    "\n",
    "If you are writing a library with an entry point command, you want to allow to the user to run that command from anywhere and use (read/write) the files in the place your user is.\n",
    "\n",
    "For example, the following code will save the figure on the library directory and not where's run:\n",
    "\n",
    "```python\n",
    "plt.savefig(os.path.join(os.path.dirname(__file__), fig_name))\n",
    "```\n",
    "\n",
    "because `__file__` is the location of where the code is. So, somthing like:\n",
    "\n",
    "```python\n",
    "plt.savefig( fig_name)\n",
    "```\n",
    "\n",
    "would save the figure in the directory you are running that from."
   ]
  },
  {
   "cell_type": "markdown",
   "metadata": {
    "colab_type": "text",
    "id": "SIDqDgEoGmfP"
   },
   "source": [
    "## Performance\n",
    "\n",
    "Many gave a comparison like \"it runs faster till *x* steps and then slower\". Remember that when discussing performance and scalability, we are usually interested in how the program behaves for *larger* (technically, arbitrarily large) input sizes - its *perfomance law*. That said, in practical applications it can also be interesting to know at what point, for instance, one implementation overtakes another, so comparisons like the example above may also be useful.\n",
    "\n",
    "There was some confusion and inconsistencies in the answers to the complexity question. Firstly, note the (very important!) difference between polynomial `n**2` and exponential `2**n`: \n"
   ]
  },
  {
   "cell_type": "code",
   "execution_count": 0,
   "metadata": {
    "colab": {
     "base_uri": "https://localhost:8080/",
     "height": 361
    },
    "colab_type": "code",
    "id": "9S55bEqWuGxo",
    "outputId": "20bb3817-6323-4bc6-e500-876aefb7bb4e"
   },
   "outputs": [
    {
     "data": {
      "image/png": "[encoded data removed]",
      "text/plain": [
       "<Figure size 576x396 with 1 Axes>"
      ]
     },
     "metadata": {
      "tags": []
     },
     "output_type": "display_data"
    }
   ],
   "source": [
    "import matplotlib.pyplot as plt\n",
    "import numpy as np\n",
    "\n",
    "x_range = np.arange(20)\n",
    "plt.plot(x_range, x_range**2, label='$n^2$')\n",
    "plt.plot(x_range, 2**x_range, label='$2^n$')\n",
    "plt.xlabel('$n$')\n",
    "plt.legend()\n",
    "plt.show()"
   ]
  },
  {
   "cell_type": "markdown",
   "metadata": {
    "colab_type": "text",
    "id": "th0WcBauxYNx"
   },
   "source": [
    "Roughly speaking, the performance law is $2^n$ if processing input of size $n+1$ takes twice as long as input of size $n$. Some answers misstated that as e.g. the time doubles when the input size doubles -- however, the performance law would then be linear, not exponential!\n",
    "\n",
    "To accurately identify the exponential law, some people did a statistical fit, and found that the value of $a$ for which the curve $a^n$ best matches the data is approximately $a = e^{0.693}$ (or $2$, as its friends call it  :-) ). While this is a good approach, note that it assumes that the law is exponential to start with -- so it is not applicable if you do not already have some idea of the general form that you can justify. Many curves can fit the same data, especially if you don't have lots of observations, so finding an explanation of *why* the peformance is as you say is stronger than a purely statistical process. That's not to say that the fit itself is wrong; in fact, it can be very useful evidence to complement the explanation!"
   ]
  }
 ],
 "metadata": {
  "colab": {
   "collapsed_sections": [],
   "name": "MPHY0021_2019.ipynb",
   "provenance": [],
   "toc_visible": true,
   "version": "0.3.2"
  },
  "kernelspec": {
   "display_name": "Python 3",
   "language": "python",
   "name": "python3"
  },
  "language_info": {
   "codemirror_mode": {
    "name": "ipython",
    "version": 3
   },
   "file_extension": ".py",
   "mimetype": "text/x-python",
   "name": "python",
   "nbconvert_exporter": "python",
   "pygments_lexer": "ipython3",
   "version": "3.7.0"
  }
 },
 "nbformat": 4,
 "nbformat_minor": 1
}
